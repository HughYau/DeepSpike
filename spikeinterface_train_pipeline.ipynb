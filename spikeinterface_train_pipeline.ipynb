{
 "cells": [
  {
   "cell_type": "code",
   "execution_count": 1,
   "metadata": {},
   "outputs": [],
   "source": [
    "%matplotlib widget\n",
    "import matplotlib.pyplot as plt\n",
    "\n",
    "import numpy as np\n",
    "import spikeinterface.full as si\n",
    "\n",
    "import pandas as pd\n",
    "from pathlib import Path"
   ]
  },
  {
   "cell_type": "code",
   "execution_count": 2,
   "metadata": {},
   "outputs": [
    {
     "data": {
      "text/plain": [
       "'0.102.2'"
      ]
     },
     "execution_count": 2,
     "metadata": {},
     "output_type": "execute_result"
    }
   ],
   "source": [
    "si.__version__"
   ]
  },
  {
   "cell_type": "code",
   "execution_count": 3,
   "metadata": {},
   "outputs": [],
   "source": [
    "import os\n",
    "# Specify the source directory\n",
    "source_dir = r'H:\\Work\\SpikeSorting\\kiehnlab\\Treadmill_clustered_txt'\n",
    "\n",
    "# Ensure the directory exists\n",
    "if not os.path.exists(source_dir):\n",
    "    raise ValueError(f\"Directory '{source_dir}' does not exist\")\n",
    "\n",
    "# Initialize an empty list to store paths\n",
    "folder_paths = []\n",
    "folder_paths  = [os.path.join(source_dir, f) for f in os.listdir(source_dir) if os.path.isdir(os.path.join(source_dir, f))]\n"
   ]
  },
  {
   "cell_type": "code",
   "execution_count": 4,
   "metadata": {},
   "outputs": [
    {
     "data": {
      "text/plain": [
       "WindowsPath('H:/Work/SpikeSorting/kiehnlab/Treadmill_clustered_txt/Rec_open-field_xx_xx_-210629_VGlut2-ChR2-1_-210629-085256')"
      ]
     },
     "execution_count": 4,
     "metadata": {},
     "output_type": "execute_result"
    }
   ],
   "source": [
    "base_folder = Path(folder_paths[0])\n",
    "base_folder "
   ]
  },
  {
   "cell_type": "code",
   "execution_count": 6,
   "metadata": {},
   "outputs": [
    {
     "data": {
      "text/html": [
       "<div style='border:1px solid #ddd; padding:10px;'><strong>TdtRecordingExtractor: 1 channels - 24414.062500 Hz - 1 segments - 49,770,496 samples - 2,038.60s (33.98 minutes) - float32 dtype - 189.86 MiB</strong></div><details style='margin-left: 10px;'>  <summary><strong>Channel IDs</strong></summary><ul>['1'] </details><details style='margin-left: 10px;'>  <summary><strong>Annotations</strong></summary><ul><li> <strong> is_filtered </strong>: False</li></details><details style='margin-left: 10px;'><summary><strong>Properties</strong></summary><ul><details><summary><strong>gain_to_uV</strong></summary>[1.]</details><details><summary><strong>offset_to_uV</strong></summary>[0.]</details><details><summary><strong>physical_unit</strong></summary>['uV']</details><details><summary><strong>gain_to_physical_unit</strong></summary>[1.]</details><details><summary><strong>offset_to_physical_unit</strong></summary>[0.]</details><details><summary><strong>channel_names</strong></summary>['Wav1 1']</details></ul></details>"
      ],
      "text/plain": [
       "TdtRecordingExtractor: 1 channels - 24414.062500 Hz - 1 segments - 49,770,496 samples \n",
       "                       2,038.60s (33.98 minutes) - float32 dtype - 189.86 MiB"
      ]
     },
     "execution_count": 6,
     "metadata": {},
     "output_type": "execute_result"
    }
   ],
   "source": [
    "filename = base_folder.name\n",
    "recording_file_tev = base_folder / (filename+'.tev')\n",
    "recording = si.read_tdt(recording_file_tev,stream_name='Wav1')\n",
    "recording "
   ]
  },
  {
   "cell_type": "code",
   "execution_count": 7,
   "metadata": {},
   "outputs": [
    {
     "name": "stdout",
     "output_type": "stream",
     "text": [
      "Channel ids: ['1']\n",
      "Sampling frequency: 24414.0625\n",
      "Number of channels: 1\n",
      "Number of segments: 1\n"
     ]
    }
   ],
   "source": [
    "channel_ids = recording.get_channel_ids()\n",
    "fs = recording.get_sampling_frequency()\n",
    "num_chan = recording.get_num_channels()\n",
    "num_segments = recording.get_num_segments()\n",
    "\n",
    "print(f'Channel ids: {channel_ids}')\n",
    "print(f'Sampling frequency: {fs}')\n",
    "print(f'Number of channels: {num_chan}')\n",
    "print(f\"Number of segments: {num_segments}\")"
   ]
  },
  {
   "cell_type": "code",
   "execution_count": 8,
   "metadata": {},
   "outputs": [],
   "source": [
    "from probeinterface import generate_linear_probe\n",
    "from probeinterface.plotting import plot_probe\n",
    "\n",
    "probe = generate_linear_probe(num_elec=1, ypitch=20, contact_shapes='circle', contact_shape_params={'radius': 6})\n",
    "\n",
    "# the probe has to be wired to the recording\n",
    "probe.set_device_channel_indices(np.arange(1))\n",
    "\n",
    "recording = recording.set_probe(probe)\n",
    "# plot_probe(probe)"
   ]
  },
  {
   "cell_type": "code",
   "execution_count": 9,
   "metadata": {},
   "outputs": [
    {
     "data": {
      "application/vnd.jupyter.widget-view+json": {
       "model_id": "029a2dcfa0c043dcba83eb956940282d",
       "version_major": 2,
       "version_minor": 0
      },
      "text/plain": [
       "AppLayout(children=(TimeSlider(children=(Dropdown(description='segment', options=(0,), value=0), Button(icon='…"
      ]
     },
     "metadata": {},
     "output_type": "display_data"
    },
    {
     "data": {
      "text/plain": [
       "<spikeinterface.widgets.traces.TracesWidget at 0x2125a555e50>"
      ]
     },
     "execution_count": 9,
     "metadata": {},
     "output_type": "execute_result"
    }
   ],
   "source": [
    "si.plot_traces(recording,time_range = (10,100),backend = 'ipywidgets')"
   ]
  },
  {
   "cell_type": "code",
   "execution_count": 15,
   "metadata": {},
   "outputs": [
    {
     "data": {
      "text/plain": [
       "{'freq_min': 400.0,\n",
       " 'freq_max': 5000.0,\n",
       " 'detect_sign': -1,\n",
       " 'detect_threshold': 5,\n",
       " 'common_ref_removal': False,\n",
       " 'nested_params': None,\n",
       " 'n_jobs': 12,\n",
       " 'chunk_duration': '1s',\n",
       " 'progress_bar': True,\n",
       " 'mp_context': None,\n",
       " 'max_threads_per_process': 1}"
      ]
     },
     "execution_count": 15,
     "metadata": {},
     "output_type": "execute_result"
    }
   ],
   "source": [
    "si.get_default_sorter_params('tridesclous')"
   ]
  },
  {
   "cell_type": "code",
   "execution_count": 16,
   "metadata": {},
   "outputs": [
    {
     "data": {
      "text/plain": [
       "{'scheme': '2',\n",
       " 'detect_threshold': 5.5,\n",
       " 'detect_sign': -1,\n",
       " 'detect_time_radius_msec': 0.5,\n",
       " 'snippet_T1': 20,\n",
       " 'snippet_T2': 20,\n",
       " 'npca_per_channel': 3,\n",
       " 'npca_per_subdivision': 10,\n",
       " 'snippet_mask_radius': 250,\n",
       " 'scheme1_detect_channel_radius': 150,\n",
       " 'scheme2_phase1_detect_channel_radius': 200,\n",
       " 'scheme2_detect_channel_radius': 50,\n",
       " 'scheme2_max_num_snippets_per_training_batch': 200,\n",
       " 'scheme2_training_duration_sec': 300,\n",
       " 'scheme2_training_recording_sampling_mode': 'uniform',\n",
       " 'scheme3_block_duration_sec': 1800,\n",
       " 'freq_min': 300,\n",
       " 'freq_max': 6000,\n",
       " 'filter': True,\n",
       " 'whiten': True,\n",
       " 'delete_temporary_recording': True}"
      ]
     },
     "execution_count": 16,
     "metadata": {},
     "output_type": "execute_result"
    }
   ],
   "source": [
    "si.get_default_sorter_params('mountainsort5')"
   ]
  },
  {
   "cell_type": "code",
   "execution_count": 17,
   "metadata": {},
   "outputs": [
    {
     "data": {
      "text/plain": [
       "{'general': {'ms_before': 2, 'ms_after': 2, 'radius_um': 100},\n",
       " 'waveforms': {'max_spikes_per_unit': 200,\n",
       "  'overwrite': True,\n",
       "  'sparse': True,\n",
       "  'method': 'energy',\n",
       "  'threshold': 0.25},\n",
       " 'filtering': {'freq_min': 150, 'dtype': 'float32'},\n",
       " 'detection': {'peak_sign': 'neg', 'detect_threshold': 4},\n",
       " 'selection': {'method': 'smart_sampling_amplitudes',\n",
       "  'n_peaks_per_channel': 5000,\n",
       "  'min_n_peaks': 20000,\n",
       "  'select_per_channel': False},\n",
       " 'clustering': {'legacy': False},\n",
       " 'matching': {'method': 'circus-omp-svd', 'method_kwargs': {}},\n",
       " 'apply_preprocessing': True,\n",
       " 'shared_memory': True,\n",
       " 'cache_preprocessing': {'mode': 'memory',\n",
       "  'memory_limit': 0.5,\n",
       "  'delete_cache': True},\n",
       " 'multi_units_only': False,\n",
       " 'job_kwargs': {'n_jobs': 0.8},\n",
       " 'debug': False}"
      ]
     },
     "execution_count": 17,
     "metadata": {},
     "output_type": "execute_result"
    }
   ],
   "source": [
    "si.get_default_sorter_params('spykingcircus2')"
   ]
  },
  {
   "cell_type": "code",
   "execution_count": 17,
   "metadata": {},
   "outputs": [
    {
     "name": "stdout",
     "output_type": "stream",
     "text": [
      "Local copy of recording\n"
     ]
    },
    {
     "data": {
      "application/vnd.jupyter.widget-view+json": {
       "model_id": "d2c0391be4d140acaf09c2709050bb91",
       "version_major": 2,
       "version_minor": 0
      },
      "text/plain": [
       "write_binary_recording:   0%|          | 0/1954 [00:00<?, ?it/s]"
      ]
     },
     "metadata": {},
     "output_type": "display_data"
    },
    {
     "name": "stdout",
     "output_type": "stream",
     "text": [
      "DataIO <id: 2164724937728> \n",
      "  workdir: E:\\Work\\SpikeSorting\\kiehnlab\\Treadmill_clustered_txt\\Rec_treadmill_6OHDA_xx_-220621_VGlut2-ChR2-64_-220621-095343\\output_tridesclous\\sorter_output\n",
      "  sample_rate: 24414.0625\n",
      "  total_channel: 1\n",
      "  channel_groups: 0 [ch0]\n",
      "  nb_segment: 1\n",
      "  length: 47689728\n",
      "  durations: 1953.4 s.\n",
      "catalogue_nested_params\n",
      "{'chunksize': 24414,\n",
      " 'clean_cluster': {'apply_auto_merge_cluster': True,\n",
      "                   'apply_auto_split': True,\n",
      "                   'apply_trash_low_extremum': True,\n",
      "                   'apply_trash_not_aligned': True,\n",
      "                   'apply_trash_small_cluster': True},\n",
      " 'clean_peaks': {'alien_value_threshold': -1.0, 'mode': 'extremum_amplitude'},\n",
      " 'cluster_kargs': {'adjacency_radius_um': 0.0,\n",
      "                   'high_adjacency_radius_um': 0.0,\n",
      "                   'max_loop': 1000,\n",
      "                   'min_cluster_size': 20},\n",
      " 'cluster_method': 'pruningshears',\n",
      " 'duration': 601.0,\n",
      " 'extract_waveforms': {'wf_left_long_ms': -2.5,\n",
      "                       'wf_left_ms': -1.0,\n",
      "                       'wf_right_long_ms': 3.5,\n",
      "                       'wf_right_ms': 1.5},\n",
      " 'feature_kargs': {'n_components': 5},\n",
      " 'feature_method': 'global_pca',\n",
      " 'make_catalogue': {'inter_sample_oversampling': False,\n",
      "                    'sparse_thresh_level2': 3,\n",
      "                    'subsample_ratio': 'auto'},\n",
      " 'memory_mode': 'memmap',\n",
      " 'mode': 'dense',\n",
      " 'n_jobs': -1,\n",
      " 'n_spike_for_centroid': 350,\n",
      " 'noise_snippet': {'nb_snippet': 300},\n",
      " 'peak_detector': {'adjacency_radius_um': 200.0,\n",
      "                   'engine': 'numba',\n",
      "                   'method': 'geometrical',\n",
      "                   'peak_sign': '-',\n",
      "                   'peak_span_ms': 0.7,\n",
      "                   'relative_threshold': 5,\n",
      "                   'smooth_radius_um': None},\n",
      " 'peak_sampler': {'mode': 'rand', 'nb_max': 20000, 'nb_max_by_channel': 600.0},\n",
      " 'preprocessor': {'common_ref_removal': False,\n",
      "                  'engine': 'numpy',\n",
      "                  'highpass_freq': 300,\n",
      "                  'lowpass_freq': 7000.0,\n",
      "                  'pad_width': -1,\n",
      "                  'smooth_size': 0},\n",
      " 'sparse_threshold': 1.5}\n",
      "peeler_params\n",
      "{'chunksize': 24414, 'engine': 'geometrical'}\n",
      "estimate_signals_noise 0.021695499774068594\n",
      "run_signalprocessor 1.2499719001352787\n",
      "clean_peaks 0.00604050001129508\n",
      "sample_some_peaks 0.005183899775147438\n",
      "extract_some_noise 0.04346660012379289\n",
      "extract_some_features 0.06257240008562803\n",
      "find_clusters 0.2648112000897527\n",
      "cache_some_waveforms 0.004810000071302056\n",
      "compute_all_centroid 0.01378190005198121\n",
      "auto_split_cluster 2.474186700070277\n",
      "trash_not_aligned 0.07898170012049377\n",
      "auto_merge_cluster 0.01934199989773333\n",
      "trash_low_extremum 0.016721300082281232\n",
      "trash_small_cluster 0.01511639985255897\n",
      "make_catalogue_for_peeler 0.02541560004465282\n",
      "CatalogueConstructor\n",
      "  chan_grp 0 - ch0\n",
      "  nb_peak_by_segment: 7590\n",
      "  some_features.shape: (7590, 5)\n",
      "  cluster_labels 1 [-1  0]\n",
      "\n",
      "peeler.tun 6.06931579997763\n",
      "tridesclous run time 10.44s\n",
      "Warning! The recording is already filtered, but mountainsort5 filter is enabled\n",
      "filtering\n",
      "whitening\n"
     ]
    },
    {
     "name": "stderr",
     "output_type": "stream",
     "text": [
      "d:\\Applications\\anaconda3\\envs\\eeg\\lib\\site-packages\\neo\\rawio\\tdtrawio.py:293: UserWarning: Could not identify sev files for channels [1, 1, 1, 1, 1, 2, 3, 4, 5, 6, 7, 8].\n",
      "  warnings.warn(f\"Could not identify sev files for channels {missing_sev_channels}.\")\n"
     ]
    },
    {
     "name": "stdout",
     "output_type": "stream",
     "text": [
      "write_binary_recording with n_jobs = 1 and chunk_size = 24414\n"
     ]
    },
    {
     "data": {
      "application/vnd.jupyter.widget-view+json": {
       "model_id": "f1a2a6ea1363444ea4f15e76ab6ecfd4",
       "version_major": 2,
       "version_minor": 0
      },
      "text/plain": [
       "write_binary_recording:   0%|          | 0/1954 [00:00<?, ?it/s]"
      ]
     },
     "metadata": {},
     "output_type": "display_data"
    },
    {
     "name": "stdout",
     "output_type": "stream",
     "text": [
      "Number of channels: 1\n",
      "Number of timepoints: 47689728\n",
      "Sampling frequency: 24414.0625 Hz\n",
      "Channel 0: [0. 0.]\n",
      "Loading traces\n",
      "*** MS5 Elapsed time for load_traces: 0.000 seconds ***\n",
      "Detecting spikes\n",
      "\n",
      "Adjacency for detect spikes with channel radius 150\n",
      "[[0]]\n",
      "\n",
      "m = 0 (nbhd size: 1)\n",
      "Detected 15508 spikes\n",
      "*** MS5 Elapsed time for detect_spikes: 0.267 seconds ***\n",
      "Removing duplicate times\n",
      "*** MS5 Elapsed time for remove_duplicate_times: 0.000 seconds ***\n",
      "Extracting 15508 snippets\n",
      "*** MS5 Elapsed time for extract_snippets: 0.083 seconds ***\n",
      "Computing PCA features with npca=3\n",
      "*** MS5 Elapsed time for compute_pca_features: 0.022 seconds ***\n",
      "Isosplit6 clustering with npca_per_subdivision=10\n",
      "Found 2 clusters\n",
      "*** MS5 Elapsed time for isosplit6_subdivision_method: 0.095 seconds ***\n",
      "Computing templates\n",
      "*** MS5 Elapsed time for compute_templates: 0.013 seconds ***\n",
      "Determining optimal alignment of templates\n",
      "Template alignment converged.\n",
      "Align templates offsets:  [0 0]\n",
      "*** MS5 Elapsed time for align_templates: 0.004 seconds ***\n",
      "Aligning snippets\n",
      "*** MS5 Elapsed time for align_snippets: 0.003 seconds ***\n",
      "Clustering aligned snippets\n",
      "Computing PCA features with npca=3\n",
      "*** MS5 Elapsed time for compute_pca_features: 0.016 seconds ***\n",
      "Isosplit6 clustering with npca_per_subdivision=10\n",
      "*** MS5 Elapsed time for isosplit6_subdivision_method: 0.081 seconds ***\n",
      "Found 2 clusters after alignment\n",
      "Computing templates\n",
      "*** MS5 Elapsed time for compute_templates: 0.016 seconds ***\n",
      "Offsetting times to peak\n",
      "Offsets to peak: [0 0]\n",
      "*** MS5 Elapsed time for determine_offsets_to_peak: 0.000 seconds ***\n",
      "Sorting times\n",
      "*** MS5 Elapsed time for sorting times: 0.000 seconds ***\n",
      "Removing out of bounds times\n",
      "*** MS5 Elapsed time for removing out of bounds times: 0.000 seconds ***\n",
      "Reordering units\n",
      "*** MS5 Elapsed time for reordering units: 0.000 seconds ***\n",
      "Creating sorting object\n",
      "*** MS5 Elapsed time for creating sorting object: 0.000 seconds ***\n",
      "mountainsort5 run time 6.63s\n"
     ]
    },
    {
     "name": "stderr",
     "output_type": "stream",
     "text": [
      "d:\\Applications\\anaconda3\\envs\\eeg\\lib\\site-packages\\neo\\rawio\\tdtrawio.py:293: UserWarning: Could not identify sev files for channels [1, 1, 1, 1, 1, 2, 3, 4, 5, 6, 7, 8].\n",
      "  warnings.warn(f\"Could not identify sev files for channels {missing_sev_channels}.\")\n"
     ]
    },
    {
     "name": "stdout",
     "output_type": "stream",
     "text": [
      "write_memory_recording with n_jobs = 9 and chunk_size = 24414\n"
     ]
    },
    {
     "data": {
      "application/vnd.jupyter.widget-view+json": {
       "model_id": "32712fa996b04fcda75d73303b793e40",
       "version_major": 2,
       "version_minor": 0
      },
      "text/plain": [
       "write_memory_recording:   0%|          | 0/1954 [00:00<?, ?it/s]"
      ]
     },
     "metadata": {},
     "output_type": "display_data"
    },
    {
     "name": "stdout",
     "output_type": "stream",
     "text": [
      "detect peaks using locally_exclusive with n_jobs = 9 and chunk_size = 24414\n"
     ]
    },
    {
     "data": {
      "application/vnd.jupyter.widget-view+json": {
       "model_id": "f6ff812382e34ebda740d9633e9c2105",
       "version_major": 2,
       "version_minor": 0
      },
      "text/plain": [
       "detect peaks using locally_exclusive:   0%|          | 0/1954 [00:00<?, ?it/s]"
      ]
     },
     "metadata": {},
     "output_type": "display_data"
    },
    {
     "name": "stdout",
     "output_type": "stream",
     "text": [
      "We found 74903 peaks in total\n",
      "We kept 20000 peaks for clustering\n",
      "extracting features with n_jobs = 9 and chunk_size = 24414\n"
     ]
    },
    {
     "data": {
      "application/vnd.jupyter.widget-view+json": {
       "model_id": "a66a952463414f0488458cea0eb4bc12",
       "version_major": 2,
       "version_minor": 0
      },
      "text/plain": [
       "extracting features:   0%|          | 0/1954 [00:00<?, ?it/s]"
      ]
     },
     "metadata": {},
     "output_type": "display_data"
    },
    {
     "name": "stdout",
     "output_type": "stream",
     "text": [
      "We found 3 raw clusters, starting to clean with matching...\n",
      "extract waveforms shared_memory multi buffer with n_jobs = 9 and chunk_size = 24414\n"
     ]
    },
    {
     "data": {
      "application/vnd.jupyter.widget-view+json": {
       "model_id": "8ca9c0537ee0472081eb343942ba4265",
       "version_major": 2,
       "version_minor": 0
      },
      "text/plain": [
       "extract waveforms shared_memory multi buffer:   0%|          | 0/1954 [00:00<?, ?it/s]"
      ]
     },
     "metadata": {},
     "output_type": "display_data"
    },
    {
     "name": "stdout",
     "output_type": "stream",
     "text": [
      "extract waveforms shared_memory multi buffer with n_jobs = 9 and chunk_size = 24414\n"
     ]
    },
    {
     "data": {
      "application/vnd.jupyter.widget-view+json": {
       "model_id": "dd0a1efd53254b64b471cdd7ad7ac12f",
       "version_major": 2,
       "version_minor": 0
      },
      "text/plain": [
       "extract waveforms shared_memory multi buffer:   0%|          | 0/1954 [00:00<?, ?it/s]"
      ]
     },
     "metadata": {},
     "output_type": "display_data"
    },
    {
     "name": "stderr",
     "output_type": "stream",
     "text": [
      "d:\\Applications\\anaconda3\\envs\\eeg\\lib\\site-packages\\spikeinterface\\core\\baserecordingsnippets.py:244: UserWarning: There is no Probe attached to this recording. Creating a dummy one with contact positions\n",
      "  warn(\"There is no Probe attached to this recording. Creating a dummy one with contact positions\")\n"
     ]
    },
    {
     "name": "stdout",
     "output_type": "stream",
     "text": [
      "We kept 2 non-duplicated clusters...\n",
      "extract waveforms shared_memory multi buffer with n_jobs = 9 and chunk_size = 24414\n"
     ]
    },
    {
     "data": {
      "application/vnd.jupyter.widget-view+json": {
       "model_id": "b54d622ec9ab45c18185be8c6f337420",
       "version_major": 2,
       "version_minor": 0
      },
      "text/plain": [
       "extract waveforms shared_memory multi buffer:   0%|          | 0/1954 [00:00<?, ?it/s]"
      ]
     },
     "metadata": {},
     "output_type": "display_data"
    },
    {
     "name": "stdout",
     "output_type": "stream",
     "text": [
      "extract waveforms shared_memory multi buffer with n_jobs = 9 and chunk_size = 24414\n"
     ]
    },
    {
     "data": {
      "application/vnd.jupyter.widget-view+json": {
       "model_id": "585987c0800848eea5d342f9e586316c",
       "version_major": 2,
       "version_minor": 0
      },
      "text/plain": [
       "extract waveforms shared_memory multi buffer:   0%|          | 0/1954 [00:00<?, ?it/s]"
      ]
     },
     "metadata": {},
     "output_type": "display_data"
    },
    {
     "name": "stdout",
     "output_type": "stream",
     "text": [
      "find spikes (circus-omp-svd) with n_jobs = 9 and chunk_size = 2441\n"
     ]
    },
    {
     "data": {
      "application/vnd.jupyter.widget-view+json": {
       "model_id": "bb473244620841ab881117c9b025d6ac",
       "version_major": 2,
       "version_minor": 0
      },
      "text/plain": [
       "find spikes (circus-omp-svd):   0%|          | 0/19537 [00:00<?, ?it/s]"
      ]
     },
     "metadata": {},
     "output_type": "display_data"
    },
    {
     "name": "stdout",
     "output_type": "stream",
     "text": [
      "We found 241377 spikes\n",
      "spykingcircus2 run time 122.21s\n"
     ]
    }
   ],
   "source": [
    "job_list = [\n",
    "  {\"sorter_name\": \"tridesclous\", \"recording\": recording,\n",
    "            \"remove_existing_folder\" : True,\n",
    "            \"output_folder\" : base_folder / f\"output_tridesclous\",\n",
    "            \"verbose\" : True,\n",
    "            \"freq_min\" : 300,\n",
    "            \"freq_max\" : 7000.0,\n",
    "            \"detect_threshold\" : 5,\n",
    "            \"detect_sign\" : -1},\n",
    "  {\"sorter_name\": \"mountainsort5\", \"recording\": recording,\n",
    "            \"remove_existing_folder\" : True,\n",
    "            \"output_folder\" : base_folder / f\"output_mountainsort5\",\n",
    "            \"verbose\" : True,\n",
    "            \"scheme\": '1',\n",
    "            \"freq_min\" : 300,\n",
    "            \"freq_max\" : 7000.0,\n",
    "            \"detect_time_radius_msec\": 1,\n",
    "            \"detect_threshold\": 5},\n",
    "  {\"sorter_name\": \"spykingcircus2\", \"recording\": recording,\n",
    "            \"remove_existing_folder\" : True,\n",
    "            \"output_folder\" : base_folder / f\"output_spykingcircus2\",\n",
    "            \"verbose\" : True,\n",
    "            'general': {'ms_before': 0.5, 'ms_after': 0.5, 'radius_um': 100},\n",
    "            'filtering': {'freq_min': 300, 'dtype': 'float32'},\n",
    "            'detection': {'peak_sign': 'neg', 'detect_threshold': 5}},\n",
    "]\n",
    "\n",
    "\n",
    "sortings = si.run_sorter_jobs(job_list=job_list, engine='loop')\n"
   ]
  },
  {
   "cell_type": "code",
   "execution_count": null,
   "metadata": {},
   "outputs": [],
   "source": []
  }
 ],
 "metadata": {
  "kernelspec": {
   "display_name": "ag_new",
   "language": "python",
   "name": "python3"
  },
  "language_info": {
   "codemirror_mode": {
    "name": "ipython",
    "version": 3
   },
   "file_extension": ".py",
   "mimetype": "text/x-python",
   "name": "python",
   "nbconvert_exporter": "python",
   "pygments_lexer": "ipython3",
   "version": "3.10.15"
  }
 },
 "nbformat": 4,
 "nbformat_minor": 2
}
